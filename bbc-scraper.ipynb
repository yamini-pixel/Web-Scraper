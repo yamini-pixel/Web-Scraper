{
 "cells": [
  {
   "cell_type": "code",
   "execution_count": 1,
   "id": "670a3356",
   "metadata": {
    "tags": []
   },
   "outputs": [],
   "source": [
    "from urllib.request import Request, urlopen\n",
    "import html5lib\n",
    "from bs4 import BeautifulSoup \n",
    "import requests\n",
    "import csv"
   ]
  },
  {
   "cell_type": "code",
   "execution_count": 2,
   "id": "ca48922e",
   "metadata": {
    "tags": []
   },
   "outputs": [],
   "source": [
    "topic = ['https://www.bbc.com/news/world-60525350', 'https://www.bbc.com/news/technology', 'https://www.bbc.com/news/science_and_environment', 'https://www.bbc.com/news/entertainment_and_arts', 'https://www.bbc.com/news/health']\n",
    "\n",
    "# Open the CSV file for writing\n",
    "with open('news.csv', 'w', newline='', encoding='utf-8') as file:\n",
    "    writer = csv.writer(file)\n",
    "\n",
    "    # Write the header row\n",
    "    writer.writerow(['Title', 'Text'])\n",
    "\n",
    "    # Loop over the topics\n",
    "    for t in topic:\n",
    "        response = requests.get(t)\n",
    "        soup = BeautifulSoup(response.text, 'html.parser')\n",
    "\n",
    "        # Find the links\n",
    "        links = soup.find_all('a', class_=\"qa-heading-link lx-stream-post__header-link\")\n",
    "\n",
    "        # Loop over the links and extract the articles\n",
    "        for link in links:\n",
    "            href = link.get('href')\n",
    "            if not href.startswith('http'):\n",
    "                href = 'https://www.bbc.com' + href\n",
    "\n",
    "            # Get the article content\n",
    "            response = requests.get(href)\n",
    "            soup = BeautifulSoup(response.content, 'html.parser')\n",
    "\n",
    "            # Find the article title and text\n",
    "            title = soup.find('h1').text\n",
    "            text = ''\n",
    "            div_list = soup.find_all('div', class_='ssrcss-11r1m41-RichTextComponentWrapper ep2nwvo0')\n",
    "            for div in div_list:\n",
    "                text += div.text.strip() + ' '\n",
    "\n",
    "            # Write the row to the CSV file\n",
    "            writer.writerow([title, text])"
   ]
  }
 ],
 "metadata": {
  "kernelspec": {
   "display_name": "Python 3 (ipykernel)",
   "language": "python",
   "name": "python3"
  },
  "language_info": {
   "codemirror_mode": {
    "name": "ipython",
    "version": 3
   },
   "file_extension": ".py",
   "mimetype": "text/x-python",
   "name": "python",
   "nbconvert_exporter": "python",
   "pygments_lexer": "ipython3",
   "version": "3.10.10"
  }
 },
 "nbformat": 4,
 "nbformat_minor": 5
}
